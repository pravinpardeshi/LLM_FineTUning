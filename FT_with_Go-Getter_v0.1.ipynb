{
  "nbformat": 4,
  "nbformat_minor": 0,
  "metadata": {
    "colab": {
      "provenance": [],
      "gpuType": "T4",
      "authorship_tag": "ABX9TyO5tSC4u4+6MqHWos4kTV0v",
      "include_colab_link": true
    },
    "kernelspec": {
      "name": "python3",
      "display_name": "Python 3"
    },
    "language_info": {
      "name": "python"
    },
    "accelerator": "GPU"
  },
  "cells": [
    {
      "cell_type": "markdown",
      "metadata": {
        "id": "view-in-github",
        "colab_type": "text"
      },
      "source": [
        "<a href=\"https://colab.research.google.com/github/pravinpardeshi/LLM_FineTUning/blob/main/FT_with_Go-Getter_v0.1.ipynb\" target=\"_parent\"><img src=\"https://colab.research.google.com/assets/colab-badge.svg\" alt=\"Open In Colab\"/></a>"
      ]
    },
    {
      "cell_type": "code",
      "execution_count": null,
      "metadata": {
        "id": "G-23k8q3aBJD"
      },
      "outputs": [],
      "source": [
        "!pip install unsloth trl transformers datasets torch"
      ]
    },
    {
      "cell_type": "code",
      "source": [
        "from unsloth import  FastLanguageModel\n",
        "from trl import SFTTrainer, SFTConfig\n",
        "from transformers import TrainingArguments\n",
        "from datasets import Dataset\n",
        "import torch\n"
      ],
      "metadata": {
        "id": "kp6btUNwaDXt"
      },
      "execution_count": null,
      "outputs": []
    },
    {
      "cell_type": "code",
      "source": [
        "# 1. Load the model & tokenizer (CPU mode)\n",
        "print('Loading')\n",
        "model, tokenizer = FastLanguageModel.from_pretrained(\n",
        "    # model_name=\"unsloth/Llama-3.2-1B-bnb-4bit\",  # unquantized CPU-friendly model\n",
        "    model_name = 'unsloth/Meta-Llama-3.1-8B',\n",
        "    max_seq_length = 2048,\n",
        "    dtype = None,\n",
        "    load_in_4bit=True,\n",
        "    device_map = 'auto'\n",
        ")\n"
      ],
      "metadata": {
        "id": "o3FcZzhecFLn"
      },
      "execution_count": null,
      "outputs": []
    },
    {
      "cell_type": "code",
      "source": [
        "model = FastLanguageModel.get_peft_model(\n",
        "    model,\n",
        "    r=8,\n",
        "    lora_alpha=16,\n",
        "    lora_dropout=0, #0.05,\n",
        "    bias=\"none\",\n",
        "    target_modules = [\"q_proj\", \"k_proj\", \"v_proj\", \"o_proj\", \"gate_proj\", \"up_proj\", \"down_proj\",],\n",
        "    # [NEW] \"unsloth\" uses 30% less VRAM, fits 2x larger batch sizes!\n",
        "    use_gradient_checkpointing = \"unsloth\", # True or \"unsloth\" for very long context\n",
        "    random_state = 3407,\n",
        "    max_seq_length = 2048,\n",
        "    use_rslora = False,  # We support rank stabilized LoRA\n",
        "    loftq_config = None, # And LoftQ\n",
        ")\n"
      ],
      "metadata": {
        "id": "7L2e0TWqdQUq"
      },
      "execution_count": null,
      "outputs": []
    },
    {
      "cell_type": "code",
      "source": [
        "data = [\n",
        "        {\"instruction\": \"What is the Go-Getter book about?\", \"input\": \"\", \"response\": \"It is about determination and perseverance\"},\n",
        "        {\"instruction\": \"Write an alternative ending where The Blue Vase fails the test.\", \"input\": \"\", \"output\": \"In this version, Cappy decides not to pursue the blue vase, leading Cappy Ricks to reconsider his judgment about who truly deserves to lead.\"},\n",
        "\n",
        "    # Add more samples here...\n",
        "]\n",
        "\n",
        "dataset = Dataset.from_list(data)\n",
        "\n"
      ],
      "metadata": {
        "id": "bXoc307zdbFf"
      },
      "execution_count": null,
      "outputs": []
    },
    {
      "cell_type": "code",
      "source": [
        "def formatting_func(example):\n",
        "    return {\n",
        "        \"text\": f\"\"\"### Instruction:\n",
        "        {example['instruction']}\n",
        "\n",
        "        ### Input:\n",
        "        {example['input']}\n",
        "\n",
        "        ### Response:\n",
        "        {example['response']}\"\"\"\n",
        "    }\n",
        "\n",
        "dataset = dataset.map(formatting_func)\n"
      ],
      "metadata": {
        "id": "KAL4QJ_ydfp7"
      },
      "execution_count": null,
      "outputs": []
    },
    {
      "cell_type": "code",
      "source": [
        "training_args = SFTConfig(\n",
        "        dataset_text_field = \"text\",\n",
        "        output_dir=\"./sft_finetune_cpu\",\n",
        "        max_seq_length = 2048,\n",
        "        per_device_train_batch_size = 2,\n",
        "        gradient_accumulation_steps = 4,\n",
        "        warmup_steps = 10,\n",
        "        max_steps = 60,\n",
        "        logging_steps = 1,\n",
        "        optim = \"adamw_8bit\",\n",
        "        fp16=False, # no fp16 on CPU\n",
        "        seed = 3407,\n",
        ")\n",
        "\n"
      ],
      "metadata": {
        "id": "WmfU_TR3di6O"
      },
      "execution_count": null,
      "outputs": []
    },
    {
      "cell_type": "code",
      "source": [
        "trainer = SFTTrainer(\n",
        "    model=model,\n",
        "    tokenizer=tokenizer,\n",
        "    train_dataset=dataset,\n",
        "    args=training_args,\n",
        "    formatting_func=formatting_func,\n",
        ")\n",
        "\n"
      ],
      "metadata": {
        "id": "X-CclPUjdl3_"
      },
      "execution_count": null,
      "outputs": []
    },
    {
      "cell_type": "code",
      "source": [
        "print('Trainng the model')\n",
        "print(f\"Model is loaded on: {next(model.parameters()).device}\")\n",
        "trainer.train()\n"
      ],
      "metadata": {
        "id": "8xGe_HmPdtjP"
      },
      "execution_count": null,
      "outputs": []
    }
  ]
}